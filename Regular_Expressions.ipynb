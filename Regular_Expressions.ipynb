{
  "nbformat": 4,
  "nbformat_minor": 0,
  "metadata": {
    "colab": {
      "name": "Regular-Expressions.ipynb",
      "provenance": [],
      "collapsed_sections": []
    },
    "kernelspec": {
      "name": "python3",
      "display_name": "Python 3"
    }
  },
  "cells": [
    {
      "cell_type": "markdown",
      "metadata": {
        "id": "hHlPuVxtvN0h",
        "colab_type": "text"
      },
      "source": [
        "# **BASIC REGULAR EXPRESSIONS**"
      ]
    },
    {
      "cell_type": "markdown",
      "metadata": {
        "id": "mq1LJuumvgtO",
        "colab_type": "text"
      },
      "source": [
        "The ‘re’ package provides multiple methods to perform queries on an input string. Here are the most commonly used methods, I will discuss:\n",
        "\n",
        "re.match()\n",
        "\n",
        "re.search()\n",
        "\n",
        "re.findall()\n",
        "\n",
        "re.split()\n",
        "\n",
        "re.sub()\n",
        "\n",
        "re.compile()"
      ]
    },
    {
      "cell_type": "markdown",
      "metadata": {
        "id": "D8mpnsZPxon4",
        "colab_type": "text"
      },
      "source": [
        "# **re.search**"
      ]
    },
    {
      "cell_type": "markdown",
      "metadata": {
        "id": "ADS-KLFZwrwo",
        "colab_type": "text"
      },
      "source": [
        "Here you can see that, search() method is able to find a pattern from any position of the string but it only returns the first occurrence of the search pattern."
      ]
    },
    {
      "cell_type": "code",
      "metadata": {
        "id": "NYrR2tVwvgZx",
        "colab_type": "code",
        "colab": {
          "base_uri": "https://localhost:8080/",
          "height": 34
        },
        "outputId": "d37e58d8-4319-4568-99c8-3218dfd27345"
      },
      "source": [
        "import re\n",
        "statement= \"International School Of Engineering\"\n",
        "Query=re.search(r'International',statement)\n",
        "print(Query.group(0))"
      ],
      "execution_count": 3,
      "outputs": [
        {
          "output_type": "stream",
          "text": [
            "International\n"
          ],
          "name": "stdout"
        }
      ]
    },
    {
      "cell_type": "markdown",
      "metadata": {
        "id": "3rU0ocLYxyB4",
        "colab_type": "text"
      },
      "source": [
        "# **re.findall**"
      ]
    },
    {
      "cell_type": "markdown",
      "metadata": {
        "id": "DSJgh4lyxYbC",
        "colab_type": "text"
      },
      "source": [
        "It will find the pattren present in the string"
      ]
    },
    {
      "cell_type": "code",
      "metadata": {
        "id": "IK2K3ktKvaUU",
        "colab_type": "code",
        "colab": {
          "base_uri": "https://localhost:8080/",
          "height": 34
        },
        "outputId": "be04cc0c-9d01-4210-961a-ff7723f6e2db"
      },
      "source": [
        "find=re.findall(r'School',statement)\n",
        "print(find)"
      ],
      "execution_count": 6,
      "outputs": [
        {
          "output_type": "stream",
          "text": [
            "['School']\n"
          ],
          "name": "stdout"
        }
      ]
    },
    {
      "cell_type": "markdown",
      "metadata": {
        "id": "I4ZJwPvlx6xG",
        "colab_type": "text"
      },
      "source": [
        "# **re.split**"
      ]
    },
    {
      "cell_type": "markdown",
      "metadata": {
        "id": "eTqVD0pRxTeT",
        "colab_type": "text"
      },
      "source": [
        "This methods helps to split string by the occurrences of given pattern."
      ]
    },
    {
      "cell_type": "code",
      "metadata": {
        "id": "ONZ1A2Tow2x6",
        "colab_type": "code",
        "colab": {
          "base_uri": "https://localhost:8080/",
          "height": 34
        },
        "outputId": "47e878af-5372-45e9-9380-4d44b35088df"
      },
      "source": [
        "split=re.split(r'e',statement)\n",
        "print(split)"
      ],
      "execution_count": 7,
      "outputs": [
        {
          "output_type": "stream",
          "text": [
            "['Int', 'rnational School Of Engin', '', 'ring']\n"
          ],
          "name": "stdout"
        }
      ]
    },
    {
      "cell_type": "markdown",
      "metadata": {
        "id": "3rpArUsZx_Kc",
        "colab_type": "text"
      },
      "source": [
        "# **re.sub**"
      ]
    },
    {
      "cell_type": "markdown",
      "metadata": {
        "id": "obl59E_2yBn_",
        "colab_type": "text"
      },
      "source": [
        "It helps to search a pattern and replace with a new sub string. If the pattern is not found, string is returned unchanged."
      ]
    },
    {
      "cell_type": "code",
      "metadata": {
        "id": "JXlUPwQJxPcr",
        "colab_type": "code",
        "colab": {
          "base_uri": "https://localhost:8080/",
          "height": 34
        },
        "outputId": "54ea0f17-2316-42a4-a1bd-f9af47317aa7"
      },
      "source": [
        "sub=re.sub(r'Of','Feature',statement)\n",
        "print(sub)"
      ],
      "execution_count": 9,
      "outputs": [
        {
          "output_type": "stream",
          "text": [
            "International School Feature Engineering\n"
          ],
          "name": "stdout"
        }
      ]
    },
    {
      "cell_type": "markdown",
      "metadata": {
        "id": "ZMr2ZmOnyk3E",
        "colab_type": "text"
      },
      "source": [
        "# **re.compile**"
      ]
    },
    {
      "cell_type": "markdown",
      "metadata": {
        "id": "p1AkVZEKypGA",
        "colab_type": "text"
      },
      "source": [
        "We can combine a regular expression pattern into pattern objects, which can be used for pattern matching. It also helps to search a pattern again without rewriting it."
      ]
    },
    {
      "cell_type": "code",
      "metadata": {
        "id": "4aRWnrxkyTJI",
        "colab_type": "code",
        "colab": {
          "base_uri": "https://localhost:8080/",
          "height": 52
        },
        "outputId": "9fd58199-1c76-4896-9690-29d0786d1f33"
      },
      "source": [
        "import re\n",
        "pattern=re.compile('AV')\n",
        "result=pattern.findall('AV Analytics Vidhya AV')\n",
        "print(result)\n",
        "result2=pattern.findall('AV is largest analytics community of India')\n",
        "print(result2)"
      ],
      "execution_count": 10,
      "outputs": [
        {
          "output_type": "stream",
          "text": [
            "['AV', 'AV']\n",
            "['AV']\n"
          ],
          "name": "stdout"
        }
      ]
    },
    {
      "cell_type": "code",
      "metadata": {
        "id": "t_pV8XNJy9GP",
        "colab_type": "code",
        "colab": {}
      },
      "source": [
        "from google.colab import files\n",
        "from IPython.display import Image"
      ],
      "execution_count": 0,
      "outputs": []
    },
    {
      "cell_type": "code",
      "metadata": {
        "id": "PHjS1UiKzsSG",
        "colab_type": "code",
        "colab": {
          "resources": {
            "http://localhost:8080/nbextensions/google.colab/files.js": {
              "data": "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",
              "ok": true,
              "headers": [
                [
                  "content-type",
                  "application/javascript"
                ]
              ],
              "status": 200,
              "status_text": ""
            }
          },
          "base_uri": "https://localhost:8080/",
          "height": 75
        },
        "outputId": "e9b1492d-60f8-4a03-cbef-ea1d3b095dd8"
      },
      "source": [
        "uploaded = files.upload()"
      ],
      "execution_count": 12,
      "outputs": [
        {
          "output_type": "display_data",
          "data": {
            "text/html": [
              "\n",
              "     <input type=\"file\" id=\"files-d2dfb811-1b7a-45c2-a6cf-fa7f89cc15ac\" name=\"files[]\" multiple disabled />\n",
              "     <output id=\"result-d2dfb811-1b7a-45c2-a6cf-fa7f89cc15ac\">\n",
              "      Upload widget is only available when the cell has been executed in the\n",
              "      current browser session. Please rerun this cell to enable.\n",
              "      </output>\n",
              "      <script src=\"/nbextensions/google.colab/files.js\"></script> "
            ],
            "text/plain": [
              "<IPython.core.display.HTML object>"
            ]
          },
          "metadata": {
            "tags": []
          }
        },
        {
          "output_type": "stream",
          "text": [
            "Saving Screenshot (130).png to Screenshot (130).png\n"
          ],
          "name": "stdout"
        }
      ]
    },
    {
      "cell_type": "code",
      "metadata": {
        "id": "p-eiaJcuzvKp",
        "colab_type": "code",
        "colab": {
          "base_uri": "https://localhost:8080/",
          "height": 626
        },
        "outputId": "acf340ac-157f-4755-e1c4-ae8e581ea554"
      },
      "source": [
        "Image(\"Screenshot (130).png\", width=800)"
      ],
      "execution_count": 13,
      "outputs": [
        {
          "output_type": "execute_result",
          "data": {
            "image/png": "[encoded data removed]",
            "text/plain": [
              "<IPython.core.display.Image object>"
            ]
          },
          "metadata": {
            "tags": [],
            "image/png": {
              "width": 800
            }
          },
          "execution_count": 13
        }
      ]
    },
    {
      "cell_type": "markdown",
      "metadata": {
        "id": "uVbIVrUv0ZqP",
        "colab_type": "text"
      },
      "source": [
        "**Problem 1: Return the first word of a given string**"
      ]
    },
    {
      "cell_type": "code",
      "metadata": {
        "id": "lyqQc58cz_p2",
        "colab_type": "code",
        "colab": {
          "base_uri": "https://localhost:8080/",
          "height": 54
        },
        "outputId": "3a0ae158-f805-455d-b7e9-66ab03b1bfd7"
      },
      "source": [
        "result=re.findall(r\"\\w\",statement)\n",
        "print(result)"
      ],
      "execution_count": 14,
      "outputs": [
        {
          "output_type": "stream",
          "text": [
            "['I', 'n', 't', 'e', 'r', 'n', 'a', 't', 'i', 'o', 'n', 'a', 'l', 'S', 'c', 'h', 'o', 'o', 'l', 'O', 'f', 'E', 'n', 'g', 'i', 'n', 'e', 'e', 'r', 'i', 'n', 'g']\n"
          ],
          "name": "stdout"
        }
      ]
    },
    {
      "cell_type": "markdown",
      "metadata": {
        "id": "yB1QtEQB00ce",
        "colab_type": "text"
      },
      "source": [
        "Extracting each word using * and +"
      ]
    },
    {
      "cell_type": "code",
      "metadata": {
        "id": "hfy_iYmR0piE",
        "colab_type": "code",
        "colab": {
          "base_uri": "https://localhost:8080/",
          "height": 34
        },
        "outputId": "2d56fede-7d31-4151-81d2-4e34d38dfe9b"
      },
      "source": [
        "res=re.findall(r'\\w*',statement)\n",
        "print(res)"
      ],
      "execution_count": 15,
      "outputs": [
        {
          "output_type": "stream",
          "text": [
            "['International', '', 'School', '', 'Of', '', 'Engineering', '']\n"
          ],
          "name": "stdout"
        }
      ]
    },
    {
      "cell_type": "markdown",
      "metadata": {
        "id": "kosZlzPj1BUQ",
        "colab_type": "text"
      },
      "source": [
        "It is returing space because * will take zero or more occurance"
      ]
    },
    {
      "cell_type": "code",
      "metadata": {
        "id": "nD_A8uK01AAT",
        "colab_type": "code",
        "colab": {
          "base_uri": "https://localhost:8080/",
          "height": 34
        },
        "outputId": "ae87b0b2-7ac4-47f2-947d-a2becc6048c1"
      },
      "source": [
        "rest=re.findall(r'\\w+',statement)\n",
        "print(rest)"
      ],
      "execution_count": 17,
      "outputs": [
        {
          "output_type": "stream",
          "text": [
            "['International', 'School', 'Of', 'Engineering']\n"
          ],
          "name": "stdout"
        }
      ]
    },
    {
      "cell_type": "markdown",
      "metadata": {
        "id": "92RMrPxZ1Z8R",
        "colab_type": "text"
      },
      "source": [
        "So use + to remove spaces"
      ]
    },
    {
      "cell_type": "markdown",
      "metadata": {
        "id": "FcIo8Qyq1f5F",
        "colab_type": "text"
      },
      "source": [
        "Using ^"
      ]
    },
    {
      "cell_type": "code",
      "metadata": {
        "id": "EvyHiYJ41Vd0",
        "colab_type": "code",
        "colab": {
          "base_uri": "https://localhost:8080/",
          "height": 34
        },
        "outputId": "682ebf26-67b7-4e90-bcb0-84408d7cd629"
      },
      "source": [
        "reu=re.findall(r'^\\w+',statement)\n",
        "print(reu)"
      ],
      "execution_count": 18,
      "outputs": [
        {
          "output_type": "stream",
          "text": [
            "['International']\n"
          ],
          "name": "stdout"
        }
      ]
    },
    {
      "cell_type": "markdown",
      "metadata": {
        "id": "Y1WfUh7H1xtV",
        "colab_type": "text"
      },
      "source": [
        "Metabyte ^ will return the First word in the string"
      ]
    },
    {
      "cell_type": "markdown",
      "metadata": {
        "id": "EcMdEaHM18Mi",
        "colab_type": "text"
      },
      "source": [
        "Metabyte $ will retuen last word in the string"
      ]
    },
    {
      "cell_type": "code",
      "metadata": {
        "id": "TEOy4U5t1wTZ",
        "colab_type": "code",
        "colab": {
          "base_uri": "https://localhost:8080/",
          "height": 34
        },
        "outputId": "670972e4-617e-48dc-9ea7-f2d44dc2eaad"
      },
      "source": [
        "reus=re.findall(r'\\w+$',statement)\n",
        "print(reus)"
      ],
      "execution_count": 21,
      "outputs": [
        {
          "output_type": "stream",
          "text": [
            "['Engineering']\n"
          ],
          "name": "stdout"
        }
      ]
    },
    {
      "cell_type": "markdown",
      "metadata": {
        "id": "wekiM_VV2cWI",
        "colab_type": "text"
      },
      "source": [
        "**Problem 2: Return the first two character of each word**"
      ]
    },
    {
      "cell_type": "markdown",
      "metadata": {
        "id": "KskRcy0r2z21",
        "colab_type": "text"
      },
      "source": [
        " Extract consecutive two characters of each word, excluding spaces (using “\\w“)"
      ]
    },
    {
      "cell_type": "code",
      "metadata": {
        "id": "M6bYqtGX2Ios",
        "colab_type": "code",
        "colab": {
          "base_uri": "https://localhost:8080/",
          "height": 34
        },
        "outputId": "5b41a96d-dc78-4518-8d54-165c787cf929"
      },
      "source": [
        "word=re.findall(r'\\w\\w',statement)\n",
        "print(word)"
      ],
      "execution_count": 22,
      "outputs": [
        {
          "output_type": "stream",
          "text": [
            "['In', 'te', 'rn', 'at', 'io', 'na', 'Sc', 'ho', 'ol', 'Of', 'En', 'gi', 'ne', 'er', 'in']\n"
          ],
          "name": "stdout"
        }
      ]
    },
    {
      "cell_type": "markdown",
      "metadata": {
        "id": "y5_eeBbA21sR",
        "colab_type": "text"
      },
      "source": [
        " Extract consecutive two characters those available at start of word boundary (using “\\b“)\n",
        "Code"
      ]
    },
    {
      "cell_type": "code",
      "metadata": {
        "id": "zTSm6ucm2mD-",
        "colab_type": "code",
        "colab": {
          "base_uri": "https://localhost:8080/",
          "height": 34
        },
        "outputId": "c7ffd9fa-97da-432c-c9fa-609721238ee4"
      },
      "source": [
        "con=re.findall(r'\\b\\w',statement)\n",
        "print(con)"
      ],
      "execution_count": 25,
      "outputs": [
        {
          "output_type": "stream",
          "text": [
            "['I', 'S', 'O', 'E']\n"
          ],
          "name": "stdout"
        }
      ]
    },
    {
      "cell_type": "markdown",
      "metadata": {
        "id": "7yXTRUHK3Oy1",
        "colab_type": "text"
      },
      "source": [
        "**Problem 3: Return the domain type of given email-ids**"
      ]
    },
    {
      "cell_type": "code",
      "metadata": {
        "id": "QHacuJs93DQC",
        "colab_type": "code",
        "colab": {}
      },
      "source": [
        "emails=('abc.test@gmail.com, xyz@test.in, test.first@analyticsvidhya.com, first.test@rest.biz')"
      ],
      "execution_count": 0,
      "outputs": []
    },
    {
      "cell_type": "markdown",
      "metadata": {
        "id": "0iCib8y63g9I",
        "colab_type": "text"
      },
      "source": [
        "Extract all characters after “@”"
      ]
    },
    {
      "cell_type": "code",
      "metadata": {
        "id": "sqWlgOXU3bHN",
        "colab_type": "code",
        "colab": {
          "base_uri": "https://localhost:8080/",
          "height": 34
        },
        "outputId": "af65f39a-f993-452d-fd73-f0c769f10ec3"
      },
      "source": [
        "ext=re.findall(r\"@\\w+\",emails)\n",
        "print(ext)"
      ],
      "execution_count": 28,
      "outputs": [
        {
          "output_type": "stream",
          "text": [
            "['@gmail', '@test', '@analyticsvidhya', '@rest']\n"
          ],
          "name": "stdout"
        }
      ]
    },
    {
      "cell_type": "markdown",
      "metadata": {
        "id": "BPMA02NK3vi0",
        "colab_type": "text"
      },
      "source": [
        "Extract all characters after @ including .com"
      ]
    },
    {
      "cell_type": "code",
      "metadata": {
        "id": "cA9LH_oI3pur",
        "colab_type": "code",
        "colab": {
          "base_uri": "https://localhost:8080/",
          "height": 34
        },
        "outputId": "2ea5760c-06ba-4132-9821-c08ddeb22f0c"
      },
      "source": [
        "ext=re.findall(r'@\\w+.\\w+',emails)\n",
        "print(ext)"
      ],
      "execution_count": 29,
      "outputs": [
        {
          "output_type": "stream",
          "text": [
            "['@gmail.com', '@test.in', '@analyticsvidhya.com', '@rest.biz']\n"
          ],
          "name": "stdout"
        }
      ]
    },
    {
      "cell_type": "markdown",
      "metadata": {
        "id": "cMnyZnTM4Cls",
        "colab_type": "text"
      },
      "source": [
        " Extract only domain name using “( )”"
      ]
    },
    {
      "cell_type": "code",
      "metadata": {
        "id": "m4mVZ6rB4BZv",
        "colab_type": "code",
        "colab": {
          "base_uri": "https://localhost:8080/",
          "height": 34
        },
        "outputId": "d259ab80-15e1-4501-8409-84f8841f3d11"
      },
      "source": [
        "domain=re.findall(r'@\\w+.(\\w+)',emails)\n",
        "print(domain)"
      ],
      "execution_count": 30,
      "outputs": [
        {
          "output_type": "stream",
          "text": [
            "['com', 'in', 'com', 'biz']\n"
          ],
          "name": "stdout"
        }
      ]
    },
    {
      "cell_type": "markdown",
      "metadata": {
        "id": "1j2ljgHD4abS",
        "colab_type": "text"
      },
      "source": [
        "**Problem 4: Return date from given string**"
      ]
    },
    {
      "cell_type": "markdown",
      "metadata": {
        "id": "5IwThVFa4dlC",
        "colab_type": "text"
      },
      "source": [
        "Here we will use “\\d” to extract digit."
      ]
    },
    {
      "cell_type": "code",
      "metadata": {
        "id": "z3nhGR0e4T0A",
        "colab_type": "code",
        "colab": {}
      },
      "source": [
        "data=('Amit 34-3456 12-05-2007, XYZ 56-4532 11-11-2011, ABC 67-8945 12-01-2009')"
      ],
      "execution_count": 0,
      "outputs": []
    },
    {
      "cell_type": "code",
      "metadata": {
        "id": "wLcoW96Q4mMv",
        "colab_type": "code",
        "colab": {
          "base_uri": "https://localhost:8080/",
          "height": 34
        },
        "outputId": "2aa661f4-0537-4553-d1d8-bd260fe6b806"
      },
      "source": [
        "date=re.findall(r'\\d{2}-\\d{2}-\\d{4}',data)\n",
        "print(date)"
      ],
      "execution_count": 34,
      "outputs": [
        {
          "output_type": "stream",
          "text": [
            "['12-05-2007', '11-11-2011', '12-01-2009']\n"
          ],
          "name": "stdout"
        }
      ]
    },
    {
      "cell_type": "markdown",
      "metadata": {
        "id": "19sAwI4U5Rcx",
        "colab_type": "text"
      },
      "source": [
        "Extract only year again parenthesis “( )”"
      ]
    },
    {
      "cell_type": "code",
      "metadata": {
        "id": "BSEqyfh541JB",
        "colab_type": "code",
        "colab": {
          "base_uri": "https://localhost:8080/",
          "height": 34
        },
        "outputId": "a7d46069-8760-4713-f149-c2f4e5f6fd8e"
      },
      "source": [
        "date=re.findall(r'\\d{2}-\\d{2}-(\\d{4})',data)\n",
        "print(date)"
      ],
      "execution_count": 35,
      "outputs": [
        {
          "output_type": "stream",
          "text": [
            "['2007', '2011', '2009']\n"
          ],
          "name": "stdout"
        }
      ]
    },
    {
      "cell_type": "markdown",
      "metadata": {
        "id": "qor0eAbj5wBd",
        "colab_type": "text"
      },
      "source": [
        "**Problem 5: Return all words of a string those starts with vowel**"
      ]
    },
    {
      "cell_type": "code",
      "metadata": {
        "id": "Alluqmof5iXz",
        "colab_type": "code",
        "colab": {
          "base_uri": "https://localhost:8080/",
          "height": 34
        },
        "outputId": "395605e6-5b9d-4d07-c2f5-45d084b946e0"
      },
      "source": [
        "alpha=re.findall(r'[aeiouAEIOU]\\w+',statement)\n",
        "print(alpha)"
      ],
      "execution_count": 37,
      "outputs": [
        {
          "output_type": "stream",
          "text": [
            "['International', 'ool', 'Of', 'Engineering']\n"
          ],
          "name": "stdout"
        }
      ]
    },
    {
      "cell_type": "markdown",
      "metadata": {
        "id": "giQK0R8J6MCW",
        "colab_type": "text"
      },
      "source": [
        "Above you can see that it has returned ool  from the mid of words. To drop this, we need to use “\\b” for word boundary."
      ]
    },
    {
      "cell_type": "code",
      "metadata": {
        "id": "TZSrVijH6IEr",
        "colab_type": "code",
        "colab": {
          "base_uri": "https://localhost:8080/",
          "height": 34
        },
        "outputId": "1aad0828-32cd-4ca4-ed06-9d8635b9b910"
      },
      "source": [
        "vowel=re.findall(r'\\b[aeiouAEIOU]\\w+',statement)\n",
        "print(vowel)"
      ],
      "execution_count": 38,
      "outputs": [
        {
          "output_type": "stream",
          "text": [
            "['International', 'Of', 'Engineering']\n"
          ],
          "name": "stdout"
        }
      ]
    },
    {
      "cell_type": "markdown",
      "metadata": {
        "id": "DjrFzvXn6nSr",
        "colab_type": "text"
      },
      "source": [
        "In similar ways, we can extract words those starts with constant using “^” within square bracket."
      ]
    },
    {
      "cell_type": "code",
      "metadata": {
        "id": "Npp97fme6ggW",
        "colab_type": "code",
        "colab": {
          "base_uri": "https://localhost:8080/",
          "height": 34
        },
        "outputId": "dfe04b9b-0240-4433-b2bd-f62f4ae96d78"
      },
      "source": [
        "conso=re.findall(r'\\b[^aeiouAEIOU]\\w+',statement)\n",
        "print(conso)"
      ],
      "execution_count": 44,
      "outputs": [
        {
          "output_type": "stream",
          "text": [
            "[' School', ' Of', ' Engineering']\n"
          ],
          "name": "stdout"
        }
      ]
    },
    {
      "cell_type": "markdown",
      "metadata": {
        "id": "uZSiQCEQ7dB-",
        "colab_type": "text"
      },
      "source": [
        "Above you can see that it has returned words starting with space. To drop it from output, include space in square bracket[]."
      ]
    },
    {
      "cell_type": "code",
      "metadata": {
        "id": "3fC0rNuM6yh7",
        "colab_type": "code",
        "colab": {
          "base_uri": "https://localhost:8080/",
          "height": 34
        },
        "outputId": "89bcf519-944c-4213-b146-1d566057d3b4"
      },
      "source": [
        "conso=re.findall(r'\\b[^aeiouAEIOU ]\\w+',statement)\n",
        "print(conso)"
      ],
      "execution_count": 45,
      "outputs": [
        {
          "output_type": "stream",
          "text": [
            "['School']\n"
          ],
          "name": "stdout"
        }
      ]
    },
    {
      "cell_type": "markdown",
      "metadata": {
        "id": "gOUxZSuJ7tac",
        "colab_type": "text"
      },
      "source": [
        "**Problem 6: Split a string with multiple delimiters**"
      ]
    },
    {
      "cell_type": "code",
      "metadata": {
        "id": "d8S6iq3T7hmt",
        "colab_type": "code",
        "colab": {}
      },
      "source": [
        "line = ('asdf fjdk;afed,fjek,asdf,foo') # String has multiple delimiters (\";\",\",\",\" \")"
      ],
      "execution_count": 0,
      "outputs": []
    },
    {
      "cell_type": "code",
      "metadata": {
        "id": "Ur5ip-yQ721q",
        "colab_type": "code",
        "colab": {
          "base_uri": "https://localhost:8080/",
          "height": 34
        },
        "outputId": "e6c37e85-e30c-4101-9012-e2837c517625"
      },
      "source": [
        "spli=re.split(r'[;,\\s]',line)\n",
        "print(spli)"
      ],
      "execution_count": 49,
      "outputs": [
        {
          "output_type": "stream",
          "text": [
            "['asdf', 'fjdk', 'afed', 'fjek', 'asdf', 'foo']\n"
          ],
          "name": "stdout"
        }
      ]
    },
    {
      "cell_type": "markdown",
      "metadata": {
        "id": "vFCZ7U0K8SQ3",
        "colab_type": "text"
      },
      "source": [
        "We can also use method re.sub() to replace these multiple delimiters with one as space ” “."
      ]
    },
    {
      "cell_type": "code",
      "metadata": {
        "id": "GGJ_M8PL8IrI",
        "colab_type": "code",
        "colab": {
          "base_uri": "https://localhost:8080/",
          "height": 34
        },
        "outputId": "19f31bd2-7775-400d-d869-b8259499b773"
      },
      "source": [
        "space=re.sub(r'[;,\\s]',' ',line)\n",
        "print(space)"
      ],
      "execution_count": 52,
      "outputs": [
        {
          "output_type": "stream",
          "text": [
            "asdf fjdk afed fjek asdf foo\n"
          ],
          "name": "stdout"
        }
      ]
    }
  ]
}